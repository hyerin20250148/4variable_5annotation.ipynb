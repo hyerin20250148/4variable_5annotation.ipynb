{
  "nbformat": 4,
  "nbformat_minor": 0,
  "metadata": {
    "colab": {
      "provenance": [],
      "authorship_tag": "ABX9TyP2jTIzXjAsKaLzS7Ef1BL8",
      "include_colab_link": true
    },
    "kernelspec": {
      "name": "python3",
      "display_name": "Python 3"
    },
    "language_info": {
      "name": "python"
    }
  },
  "cells": [
    {
      "cell_type": "markdown",
      "metadata": {
        "id": "view-in-github",
        "colab_type": "text"
      },
      "source": [
        "<a href=\"https://colab.research.google.com/github/hyerin20250148/4variable_5annotation.ipynb/blob/main/18%2C19.ipynb\" target=\"_parent\"><img src=\"https://colab.research.google.com/assets/colab-badge.svg\" alt=\"Open In Colab\"/></a>"
      ]
    },
    {
      "cell_type": "code",
      "execution_count": 2,
      "metadata": {
        "colab": {
          "base_uri": "https://localhost:8080/"
        },
        "id": "cVOavbhym8Dw",
        "outputId": "ad0d5b2e-f393-489f-86be-70e4cb405648"
      },
      "outputs": [
        {
          "output_type": "stream",
          "name": "stdout",
          "text": [
            "3\n",
            "4\n",
            "5\n"
          ]
        }
      ],
      "source": [
        "x=0\n",
        "while x<10:\n",
        "  x=x+1\n",
        "  if x<3:\n",
        "    continue\n",
        "\n",
        "  print(x)\n",
        "  if x>4:\n",
        "    break"
      ]
    },
    {
      "cell_type": "code",
      "source": [
        "n=1\n",
        "total=0\n",
        "while True:\n",
        "  total=total+n\n",
        "  if total>100000:\n",
        "    print('1+2+...+n 값이 10만 보다 커지게 되는 n:',n)\n",
        "    print('이 때 총합은',total)\n",
        "    break\n",
        "    n=n+1"
      ],
      "metadata": {
        "colab": {
          "base_uri": "https://localhost:8080/"
        },
        "id": "ldpCY2-DnNNx",
        "outputId": "fb9c09c7-efcc-449c-fbf6-3986a8b6ae73"
      },
      "execution_count": 3,
      "outputs": [
        {
          "output_type": "stream",
          "name": "stdout",
          "text": [
            "1+2+...+n 값이 10만 보다 커지게 되는 n: 1\n",
            "이 때 총합은 100001\n"
          ]
        }
      ]
    },
    {
      "cell_type": "code",
      "source": [
        "for sport in['축구','야구','배구','농구']:\n",
        "  if sport=='축구':\n",
        "    pass\n",
        "\n",
        "  if sport=='야구':\n",
        "    pass"
      ],
      "metadata": {
        "id": "Y6xQ9odpnNXI"
      },
      "execution_count": 4,
      "outputs": []
    }
  ]
}