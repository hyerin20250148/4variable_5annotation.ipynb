{
  "nbformat": 4,
  "nbformat_minor": 0,
  "metadata": {
    "colab": {
      "provenance": [],
      "authorship_tag": "ABX9TyOaQ2/8AOa0i4aNWdRM59SE",
      "include_colab_link": true
    },
    "kernelspec": {
      "name": "python3",
      "display_name": "Python 3"
    },
    "language_info": {
      "name": "python"
    }
  },
  "cells": [
    {
      "cell_type": "markdown",
      "metadata": {
        "id": "view-in-github",
        "colab_type": "text"
      },
      "source": [
        "<a href=\"https://colab.research.google.com/github/hyerin20250148/4variable_5annotation.ipynb/blob/main/10%2C11.ipynb\" target=\"_parent\"><img src=\"https://colab.research.google.com/assets/colab-badge.svg\" alt=\"Open In Colab\"/></a>"
      ]
    },
    {
      "cell_type": "code",
      "execution_count": 1,
      "metadata": {
        "id": "XXBdzws6cq2F"
      },
      "outputs": [],
      "source": [
        "name='홍길동'\n",
        "age=17\n",
        "weight=70.7\n",
        "is_badman=False"
      ]
    },
    {
      "cell_type": "code",
      "source": [
        "name:str='홍길동'\n",
        "age:int=17\n",
        "weight:float=70.7\n",
        "is_badman:bool=False"
      ],
      "metadata": {
        "id": "0UH5nhxgc45K"
      },
      "execution_count": 2,
      "outputs": []
    },
    {
      "cell_type": "code",
      "source": [
        "booklist:list[str]=['삼국지','수호지','초한지']"
      ],
      "metadata": {
        "id": "6GyQl9N_dHvC"
      },
      "execution_count": 12,
      "outputs": []
    },
    {
      "cell_type": "code",
      "source": [
        "Island:tuple[str,float,float]=('독도',131.52,37.14)"
      ],
      "metadata": {
        "id": "5jCNC55PdTRS"
      },
      "execution_count": 11,
      "outputs": []
    },
    {
      "cell_type": "code",
      "source": [
        "top4_familyname:dict[str,int]={'김씨':123456,'나씨':345811,'박씨':963123,'여씨':865909}"
      ],
      "metadata": {
        "id": "EF4Z53lpdjpz"
      },
      "execution_count": 15,
      "outputs": []
    },
    {
      "cell_type": "code",
      "source": [
        "fruits:set[str]=('사과','배','수박','참외','딸기')\n"
      ],
      "metadata": {
        "id": "eoYvUvtyeAJq"
      },
      "execution_count": 9,
      "outputs": []
    },
    {
      "cell_type": "code",
      "source": [
        "print(__annotations__)"
      ],
      "metadata": {
        "colab": {
          "base_uri": "https://localhost:8080/"
        },
        "id": "HqyhiSXqeTw7",
        "outputId": "d4462ce4-d556-4b83-9e5f-89a20c9235de"
      },
      "execution_count": 8,
      "outputs": [
        {
          "output_type": "stream",
          "name": "stdout",
          "text": [
            "{'name': <class 'str'>, 'age': <class 'int'>, 'weight': <class 'float'>, 'is_badman': <class 'bool'>, 'fruits': set[str]}\n"
          ]
        }
      ]
    },
    {
      "cell_type": "code",
      "source": [
        "fruits:set[str]={'사과','배','수박','참외','딸기'}\n",
        "fruits={1,2,3,4,5}\n",
        "print(fruits)"
      ],
      "metadata": {
        "colab": {
          "base_uri": "https://localhost:8080/"
        },
        "id": "JX_5HtjCeb3q",
        "outputId": "f9220e03-ebb0-4ef2-c0a5-c3bd41137abd"
      },
      "execution_count": 4,
      "outputs": [
        {
          "output_type": "stream",
          "name": "stdout",
          "text": [
            "{1, 2, 3, 4, 5}\n"
          ]
        }
      ]
    },
    {
      "cell_type": "code",
      "source": [
        "userInput=input()\n",
        "print('사용자가 입력한 값은<'+userInput+'>입니다.')"
      ],
      "metadata": {
        "colab": {
          "base_uri": "https://localhost:8080/"
        },
        "id": "eonjM3Dweb1i",
        "outputId": "97a778f0-271c-4177-fed6-ab8819ebaf6e"
      },
      "execution_count": 5,
      "outputs": [
        {
          "output_type": "stream",
          "name": "stdout",
          "text": [
            "10\n",
            "사용자가 입력한 값은<10>입니다.\n"
          ]
        }
      ]
    },
    {
      "cell_type": "code",
      "source": [
        "userInput=input('값을 입력하세요:')\n",
        "print('사용자가 입력한 값은<'+userInput+'>입니다.')"
      ],
      "metadata": {
        "colab": {
          "base_uri": "https://localhost:8080/"
        },
        "id": "u1ZBotIUfAj6",
        "outputId": "1e8eae33-ba97-4c4c-f22e-091bc7910efc"
      },
      "execution_count": 7,
      "outputs": [
        {
          "output_type": "stream",
          "name": "stdout",
          "text": [
            "값을 입력하세요:yes\n",
            "사용자가 입력한 값은<yes>입니다.\n"
          ]
        }
      ]
    }
  ]
}