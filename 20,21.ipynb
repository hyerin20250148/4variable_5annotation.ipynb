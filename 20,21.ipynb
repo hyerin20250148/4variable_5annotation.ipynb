{
  "nbformat": 4,
  "nbformat_minor": 0,
  "metadata": {
    "colab": {
      "provenance": [],
      "authorship_tag": "ABX9TyPIt/FxlrIuoNHhBeBV+qpk",
      "include_colab_link": true
    },
    "kernelspec": {
      "name": "python3",
      "display_name": "Python 3"
    },
    "language_info": {
      "name": "python"
    }
  },
  "cells": [
    {
      "cell_type": "markdown",
      "metadata": {
        "id": "view-in-github",
        "colab_type": "text"
      },
      "source": [
        "<a href=\"https://colab.research.google.com/github/hyerin20250148/4variable_5annotation.ipynb/blob/main/20%2C21.ipynb\" target=\"_parent\"><img src=\"https://colab.research.google.com/assets/colab-badge.svg\" alt=\"Open In Colab\"/></a>"
      ]
    },
    {
      "cell_type": "code",
      "execution_count": 1,
      "metadata": {
        "colab": {
          "base_uri": "https://localhost:8080/"
        },
        "id": "-I3iWeeAogmy",
        "outputId": "3e66a5e9-b380-4440-f455-61579d647df0"
      },
      "outputs": [
        {
          "output_type": "stream",
          "name": "stdout",
          "text": [
            "Bac Request\n"
          ]
        }
      ],
      "source": [
        "http_status=400\n",
        "match http_status:\n",
        "  case 400:\n",
        "    print('Bac Request')\n",
        "  case 401:\n",
        "    print('Unauthorized')\n",
        "  case 403:\n",
        "    print('Forbidden')\n",
        "  case 404:\n",
        "    print('Not Found')\n",
        "  case _:\n",
        "    print('기타 인터넷 문제로 뭔가 잘못됨')"
      ]
    },
    {
      "cell_type": "code",
      "source": [
        "http_status=302\n",
        "match http_status:\n",
        "  case 200|202|203:\n",
        "    print('Success')\n",
        "  case 301|302|303:\n",
        "    print('Redirection')\n",
        "  case 400|401|403|404:\n",
        "    print('Client Errors')\n",
        "  case _:\n",
        "    print('기타 HTTP 응답코드')"
      ],
      "metadata": {
        "colab": {
          "base_uri": "https://localhost:8080/"
        },
        "id": "lYSM0A7dpcvx",
        "outputId": "fa0543fb-ab3e-4d7e-d59d-a10c45353a6d"
      },
      "execution_count": 2,
      "outputs": [
        {
          "output_type": "stream",
          "name": "stdout",
          "text": [
            "Redirection\n"
          ]
        }
      ]
    },
    {
      "cell_type": "code",
      "source": [
        "point=(0,0)\n",
        "#point=(1,0)\n",
        "#point=(0,1)\n",
        "#point=(1,1)\n",
        "match point:\n",
        "  case (0,0):\n",
        "    print('원점 좌표')\n",
        "  case (x,0):\n",
        "    print(f'x축 위의 점이며 x의 값은 {x}')\n",
        "  case (0,y):\n",
        "    print(f'y축 위의 점이며 y의 값은 {y}')\n",
        "  case (x,y):\n",
        "    print(f'(x,y)=({x},{y})')\n",
        "  case _:\n",
        "    print('오류:2차원 좌표가 아님')"
      ],
      "metadata": {
        "colab": {
          "base_uri": "https://localhost:8080/"
        },
        "id": "0C6uAPf9qWQB",
        "outputId": "64d35c43-f1a7-44c3-db52-cd0e6c190838"
      },
      "execution_count": 3,
      "outputs": [
        {
          "output_type": "stream",
          "name": "stdout",
          "text": [
            "원점 좌표\n"
          ]
        }
      ]
    },
    {
      "cell_type": "code",
      "source": [
        "x=2\n",
        "y=4\n",
        "print(x*y)\n",
        "print(x/y)\n",
        "print(x**y)"
      ],
      "metadata": {
        "colab": {
          "base_uri": "https://localhost:8080/"
        },
        "id": "joKL4ckLrULp",
        "outputId": "f577b3ca-15cb-4e3a-fec3-5bdb3763dd1a"
      },
      "execution_count": 4,
      "outputs": [
        {
          "output_type": "stream",
          "name": "stdout",
          "text": [
            "8\n",
            "0.5\n",
            "16\n"
          ]
        }
      ]
    },
    {
      "cell_type": "code",
      "source": [
        "x=5\n",
        "y=2\n",
        "print(x//y)\n",
        "print(x%y)"
      ],
      "metadata": {
        "colab": {
          "base_uri": "https://localhost:8080/"
        },
        "id": "3aWOgIFbrfLY",
        "outputId": "52881912-4623-4761-d92b-06388c563d6f"
      },
      "execution_count": 5,
      "outputs": [
        {
          "output_type": "stream",
          "name": "stdout",
          "text": [
            "2\n",
            "1\n"
          ]
        }
      ]
    }
  ]
}